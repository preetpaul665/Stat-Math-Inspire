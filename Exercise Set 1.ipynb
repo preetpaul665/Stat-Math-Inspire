{
 "cells": [
  {
   "cell_type": "markdown",
   "metadata": {},
   "source": [
    "#### 1)\tPrompt the user to enter a temperature in Fahrenheit and print the temperature in Celcius after conversion."
   ]
  },
  {
   "cell_type": "code",
   "execution_count": 1,
   "metadata": {},
   "outputs": [
    {
     "name": "stdout",
     "output_type": "stream",
     "text": [
      "Enter temperatue in Fahrenheit: 32\n",
      "Temperatuer in Celcius is : 0.0  degrees Celcius\n"
     ]
    }
   ],
   "source": [
    "temp = float(input('Enter temperatue in Fahrenheit: ')) # converting the input in float(decimal)\n",
    "tem_cel  = (temp-32)*5/9                                # using conversion formula (F-32) * (5/9)\n",
    "print('Temperatuer in Celcius is :',tem_cel,' degrees Celcius')            # Printing final value"
   ]
  },
  {
   "cell_type": "markdown",
   "metadata": {},
   "source": [
    "#### 2)\t Prompt the user to enter a distance in Metres and print the distance in Kilometres after conversion."
   ]
  },
  {
   "cell_type": "code",
   "execution_count": null,
   "metadata": {},
   "outputs": [],
   "source": [
    "dist = float(input('enter the distance in meters: '))   #Taking input for distance \n",
    "dist_km = dist/1000                                     # Converting into kilometer\n",
    "print('the distance in kilometers is: ', dist_km,' km') #Printing"
   ]
  },
  {
   "cell_type": "markdown",
   "metadata": {},
   "source": [
    "#### 3)\tPrompt the user to enter length and breadth of a rectangle and print the area of the rectangle."
   ]
  },
  {
   "cell_type": "code",
   "execution_count": null,
   "metadata": {},
   "outputs": [],
   "source": [
    "length = float(input(\"Enter length of the rectangle: \"))    #inputing length of rectangle\n",
    "breadth = float(input('Enter breadth of the rectangle: '))  # inputing breadth of rectangle\n",
    "# area = length*breadth                                     # you can compute like this and the print the value of area\n",
    "print(\"Area of rectangle is \",length*breadth,'unit square')               # or you can also directly compute the value in the print statement"
   ]
  },
  {
   "cell_type": "markdown",
   "metadata": {},
   "source": [
    "#### 4)\tIf the marks obtained by a student in five different subjects are input through the keyboard, find out the aggregate marks and percentage marks obtained by the student. Assume that the maximum marks that can be obtained by a student in each subject is 100."
   ]
  },
  {
   "cell_type": "code",
   "execution_count": null,
   "metadata": {},
   "outputs": [],
   "source": [
    "sub1 = float(input(\"Enter marks for Subject 1: \")) #taking input of marks\n",
    "sub2 = float(input(\"Enter marks for Subject 2: \"))\n",
    "sub3 = float(input(\"Enter marks for Subject 3: \"))\n",
    "sub4 = float(input(\"Enter marks for Subject 4: \"))\n",
    "sub5 = float(input(\"Enter marks for Subject 5: \"))\n",
    "\n",
    "total = sub1+sub2+sub3+sub4+sub5                   #Calculating total\n",
    "avg = total/5                                      #Calculating average marks \n",
    "\n",
    "print('The aggregate marks is ',total)             #Printing the aggregate marks and percentage\n",
    "print('percentage marks is ',avg,\"%\")"
   ]
  },
  {
   "cell_type": "markdown",
   "metadata": {},
   "source": [
    "#### 5)\tPrompt the user to enter the value of the radius of a circle and print the area, and circumference of the circle"
   ]
  },
  {
   "cell_type": "code",
   "execution_count": 2,
   "metadata": {},
   "outputs": [
    {
     "name": "stdout",
     "output_type": "stream",
     "text": [
      "Radius of the circle: 10\n",
      "area of the circle is:  314.286\n",
      "circumference of the circle is:  62.857\n"
     ]
    }
   ],
   "source": [
    "radius = float(input('Radius of the circle: '))          #inputing the radius of the circle\n",
    "area = 22/7*radius**2                                    # calculting area\n",
    "circ = 2*22/7*radius                                     #calculating circumference\n",
    "print('area of the circle is: ',round(area,3))           # printing area. Rounding off the value upto 3 digit\n",
    "print('circumference of the circle is: ',round(circ,3))  # printing circumference. Rounding off the value upto 3 digit"
   ]
  },
  {
   "cell_type": "code",
   "execution_count": null,
   "metadata": {},
   "outputs": [],
   "source": []
  }
 ],
 "metadata": {
  "kernelspec": {
   "display_name": "Python 3",
   "language": "python",
   "name": "python3"
  },
  "language_info": {
   "codemirror_mode": {
    "name": "ipython",
    "version": 3
   },
   "file_extension": ".py",
   "mimetype": "text/x-python",
   "name": "python",
   "nbconvert_exporter": "python",
   "pygments_lexer": "ipython3",
   "version": "3.8.8"
  }
 },
 "nbformat": 4,
 "nbformat_minor": 4
}
